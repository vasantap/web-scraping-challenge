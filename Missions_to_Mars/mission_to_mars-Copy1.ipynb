{
 "cells": [
  {
   "cell_type": "markdown",
   "metadata": {},
   "source": [
    "Build a web application that scrapes data related to Mission to Mars and displays the information in a single HTML page."
   ]
  },
  {
   "cell_type": "code",
   "execution_count": 4,
   "metadata": {},
   "outputs": [],
   "source": [
    "from bs4 import BeautifulSoup\n",
    "from splinter import Browser\n",
    "from selenium import webdriver\n",
    "import pandas as pd\n",
    "import requests\n",
    "from webdriver_manager.chrome import ChromeDriverManager"
   ]
  },
  {
   "cell_type": "code",
   "execution_count": 5,
   "metadata": {},
   "outputs": [
    {
     "name": "stdout",
     "output_type": "stream",
     "text": [
      "\n"
     ]
    },
    {
     "name": "stderr",
     "output_type": "stream",
     "text": [
      "[WDM] - ====== WebDriver manager ======\n",
      "[WDM] - Current google-chrome version is 104.0.5112\n",
      "[WDM] - Get LATEST chromedriver version for 104.0.5112 google-chrome\n",
      "[WDM] - Driver [C:\\Users\\vasan\\.wdm\\drivers\\chromedriver\\win32\\104.0.5112.79\\chromedriver.exe] found in cache\n"
     ]
    }
   ],
   "source": [
    "# Set executable path to Chrome driver and initialize browser\n",
    "executable_path = {'executable_path': ChromeDriverManager().install()}\n",
    "browser = Browser('chrome', **executable_path, headless=False)"
   ]
  },
  {
   "cell_type": "markdown",
   "metadata": {},
   "source": [
    "#### NASA Mars News"
   ]
  },
  {
   "cell_type": "code",
   "execution_count": 3,
   "metadata": {},
   "outputs": [
    {
     "name": "stdout",
     "output_type": "stream",
     "text": [
      "AI Is Helping Scientists Discover Fresh Craters on Mars\n",
      "It's the first time machine learning has been used to find previously unknown craters on the Red Planet.\n"
     ]
    }
   ],
   "source": [
    "# Visit the NASA Mars News Site and scrape the titles and paragraphs text\n",
    "\n",
    "url = 'https://redplanetscience.com/'\n",
    "browser.visit(url)\n",
    "# Create BeautifulSoup object; parse with 'html.parser'\n",
    "html = browser.html\n",
    "soup = BeautifulSoup(html, 'html.parser')\n",
    "mars_news_title = soup.find('div', class_='content_title').text\n",
    "mars_news_p = soup.find('div', class_='article_teaser_body').text\n",
    "print(mars_news_title)\n",
    "print(mars_news_p)"
   ]
  },
  {
   "cell_type": "code",
   "execution_count": 6,
   "metadata": {},
   "outputs": [
    {
     "name": "stdout",
     "output_type": "stream",
     "text": [
      "NASA Perseverance Mars Rover Scientists Train in the Nevada Desert\n",
      "Team members searched for signs of ancient microscopic life there, just as NASA's latest rover will on the Red Planet next year.\n"
     ]
    }
   ],
   "source": [
    "\n",
    "url = 'https://redplanetscience.com/'\n",
    "browser.visit(url)\n",
    "\n",
    "mars_news_title = browser.find_by_xpath('//*[@id=\"news\"]/div[1]/div/div[2]/div/div[2]').text\n",
    "mars_news_p =browser.find_by_xpath('//*[@id=\"news\"]/div[1]/div/div[2]/div/div[3]').text\n",
    "print(mars_news_title)\n",
    "print(mars_news_p)\n",
    "#/html/body/div/div/section[2]/div/div[1]/div/div[2]/div/div[2]"
   ]
  },
  {
   "cell_type": "markdown",
   "metadata": {},
   "source": [
    "JPL Mars Space Images-Featured Image"
   ]
  },
  {
   "cell_type": "code",
   "execution_count": 4,
   "metadata": {},
   "outputs": [
    {
     "name": "stdout",
     "output_type": "stream",
     "text": [
      "image/featured/mars3.jpg\n",
      "https://spaceimages-mars.com/image/featured/mars3.jpg\n"
     ]
    }
   ],
   "source": [
    "# Visit the JPL Mars Space Images url and scrape featured image\n",
    "url = \"https://spaceimages-mars.com/\" \n",
    "browser.visit(url)\n",
    "# Create BeautifulSoup object; parse with 'html.parser'\n",
    "html = browser.html\n",
    "soup = BeautifulSoup(html, 'html.parser')\n",
    "mars_featured_image = soup.find('img', class_='headerimage fade-in')['src']\n",
    "print(mars_featured_image)\n",
    "mars_featured_image_url = f'https://spaceimages-mars.com/{mars_featured_image}'\n",
    "print(mars_featured_image_url)"
   ]
  },
  {
   "cell_type": "code",
   "execution_count": 9,
   "metadata": {},
   "outputs": [
    {
     "name": "stdout",
     "output_type": "stream",
     "text": [
      "https://spaceimages-mars.com/image/featured/mars1.jpg\n"
     ]
    }
   ],
   "source": [
    "url = \"https://spaceimages-mars.com/\" \n",
    "browser.visit(url)\n",
    "\n",
    "browser.find_by_xpath('/html/body/div[1]/div/a/button').click()\n",
    "\n",
    "\n",
    "mars_featured_image = browser.find_by_xpath('/html/body/div[8]/div/div/div/div/img')['src']\n",
    "print(mars_featured_image)"
   ]
  },
  {
   "cell_type": "markdown",
   "metadata": {},
   "source": [
    "Mars Facts"
   ]
  },
  {
   "cell_type": "code",
   "execution_count": 5,
   "metadata": {},
   "outputs": [
    {
     "data": {
      "text/html": [
       "<div>\n",
       "<style scoped>\n",
       "    .dataframe tbody tr th:only-of-type {\n",
       "        vertical-align: middle;\n",
       "    }\n",
       "\n",
       "    .dataframe tbody tr th {\n",
       "        vertical-align: top;\n",
       "    }\n",
       "\n",
       "    .dataframe thead th {\n",
       "        text-align: right;\n",
       "    }\n",
       "</style>\n",
       "<table border=\"1\" class=\"dataframe\">\n",
       "  <thead>\n",
       "    <tr style=\"text-align: right;\">\n",
       "      <th></th>\n",
       "      <th>Mars_Values</th>\n",
       "      <th>Earth_Values</th>\n",
       "    </tr>\n",
       "    <tr>\n",
       "      <th>Mars_Earth_description</th>\n",
       "      <th></th>\n",
       "      <th></th>\n",
       "    </tr>\n",
       "  </thead>\n",
       "  <tbody>\n",
       "    <tr>\n",
       "      <th>Mars - Earth Comparison</th>\n",
       "      <td>Mars</td>\n",
       "      <td>Earth</td>\n",
       "    </tr>\n",
       "    <tr>\n",
       "      <th>Diameter:</th>\n",
       "      <td>6,779 km</td>\n",
       "      <td>12,742 km</td>\n",
       "    </tr>\n",
       "    <tr>\n",
       "      <th>Mass:</th>\n",
       "      <td>6.39 × 10^23 kg</td>\n",
       "      <td>5.97 × 10^24 kg</td>\n",
       "    </tr>\n",
       "    <tr>\n",
       "      <th>Moons:</th>\n",
       "      <td>2</td>\n",
       "      <td>1</td>\n",
       "    </tr>\n",
       "    <tr>\n",
       "      <th>Distance from Sun:</th>\n",
       "      <td>227,943,824 km</td>\n",
       "      <td>149,598,262 km</td>\n",
       "    </tr>\n",
       "  </tbody>\n",
       "</table>\n",
       "</div>"
      ],
      "text/plain": [
       "                             Mars_Values     Earth_Values\n",
       "Mars_Earth_description                                   \n",
       "Mars - Earth Comparison             Mars            Earth\n",
       "Diameter:                       6,779 km        12,742 km\n",
       "Mass:                    6.39 × 10^23 kg  5.97 × 10^24 kg\n",
       "Moons:                                 2                1\n",
       "Distance from Sun:        227,943,824 km   149,598,262 km"
      ]
     },
     "execution_count": 5,
     "metadata": {},
     "output_type": "execute_result"
    }
   ],
   "source": [
    "# Use pandas to scrape the table containing facts about the planet including diameter, mass, etc.\n",
    "mars_facts_df = pd.read_html('https://galaxyfacts-mars.com/')[0]\n",
    "mars_facts_df.columns = ['Mars_Earth_description', 'Mars_Values', 'Earth_Values']\n",
    "mars_facts_df.set_index('Mars_Earth_description', inplace=True)\n",
    "mars_facts_df.head()"
   ]
  },
  {
   "cell_type": "code",
   "execution_count": 6,
   "metadata": {},
   "outputs": [
    {
     "name": "stdout",
     "output_type": "stream",
     "text": [
      "<table border=\"1\" class=\"dataframe\">\n",
      "  <thead>\n",
      "    <tr style=\"text-align: right;\">\n",
      "      <th></th>\n",
      "      <th>Mars_Values</th>\n",
      "      <th>Earth_Values</th>\n",
      "    </tr>\n",
      "    <tr>\n",
      "      <th>Mars_Earth_description</th>\n",
      "      <th></th>\n",
      "      <th></th>\n",
      "    </tr>\n",
      "  </thead>\n",
      "  <tbody>\n",
      "    <tr>\n",
      "      <th>Mars - Earth Comparison</th>\n",
      "      <td>Mars</td>\n",
      "      <td>Earth</td>\n",
      "    </tr>\n",
      "    <tr>\n",
      "      <th>Diameter:</th>\n",
      "      <td>6,779 km</td>\n",
      "      <td>12,742 km</td>\n",
      "    </tr>\n",
      "    <tr>\n",
      "      <th>Mass:</th>\n",
      "      <td>6.39 × 10^23 kg</td>\n",
      "      <td>5.97 × 10^24 kg</td>\n",
      "    </tr>\n",
      "    <tr>\n",
      "      <th>Moons:</th>\n",
      "      <td>2</td>\n",
      "      <td>1</td>\n",
      "    </tr>\n",
      "    <tr>\n",
      "      <th>Distance from Sun:</th>\n",
      "      <td>227,943,824 km</td>\n",
      "      <td>149,598,262 km</td>\n",
      "    </tr>\n",
      "    <tr>\n",
      "      <th>Length of Year:</th>\n",
      "      <td>687 Earth days</td>\n",
      "      <td>365.24 days</td>\n",
      "    </tr>\n",
      "    <tr>\n",
      "      <th>Temperature:</th>\n",
      "      <td>-87 to -5 °C</td>\n",
      "      <td>-88 to 58°C</td>\n",
      "    </tr>\n",
      "  </tbody>\n",
      "</table>\n"
     ]
    }
   ],
   "source": [
    "# convert the dataframe to html\n",
    "mars_facts_df.to_html('mars_facts.html')\n",
    "# print the html\n",
    "print(mars_facts_df.to_html())"
   ]
  },
  {
   "cell_type": "markdown",
   "metadata": {},
   "source": [
    "##### Mars Hemispheres"
   ]
  },
  {
   "cell_type": "code",
   "execution_count": 10,
   "metadata": {},
   "outputs": [],
   "source": [
    "# Visit the Astrogeology site and scrape the Mars hemisphere images\n",
    "astro_site_url = 'https://marshemispheres.com/'\n",
    "browser.visit(astro_site_url)"
   ]
  },
  {
   "cell_type": "code",
   "execution_count": 8,
   "metadata": {},
   "outputs": [],
   "source": [
    "# Create a list to hold the images and titles.\n",
    "hemisphere_image_urls = []\n",
    "\n",
    "# create list of all hemispheres\n",
    "list = browser.find_by_css('a.product-item img')\n",
    "\n",
    "# loop through the list of hemispheres\n",
    "for i in range(len(list)):\n",
    "    hemisphere_dict = {}\n",
    "    \n",
    "   \n",
    "    browser.find_by_css('a.product-item img')[i].click()\n",
    "    \n",
    "    # find the url of the image\n",
    "    sample_elem = browser.links.find_by_text('Sample').first\n",
    "    hemisphere_dict['img_url'] = sample_elem['href']\n",
    "    \n",
    "    # find the title of the image\n",
    "    hemisphere_dict['title'] = browser.find_by_css('h2.title').text\n",
    "    \n",
    "    # append the dictionary to the list\n",
    "    hemisphere_image_urls.append(hemisphere_dict)\n",
    "    \n",
    "    # goback to the previous page\n",
    "    browser.back()"
   ]
  },
  {
   "cell_type": "code",
   "execution_count": 11,
   "metadata": {},
   "outputs": [],
   "source": [
    "astro_site_url = 'https://marshemispheres.com/'\n",
    "browser.visit(astro_site_url)\n",
    "\n",
    "hemisphere_image_urls = []\n",
    "list = browser.find_by_css('a.product-item img')\n",
    "\n",
    "# loop through the list of hemispheres\n",
    "for i in range(len(list)):\n",
    "    hemisphere_dict = {}\n",
    "    x_path = f'//*[@id=\"product-section\"]/div[2]/div[{i+1}]/div/a/h3' \n",
    "    \n",
    "    browser.find_by_xpath(x_path).click() \n",
    "    hemisphere_dict['img_url'] =  browser.find_by_xpath('//*[@id=\"wide-image\"]/div/ul/li[1]/a')['href']\n",
    "    \n",
    "    # find the title of the image\n",
    "    hemisphere_dict['title'] =  browser.find_by_xpath('//*[@id=\"results\"]/div[1]/div/div[3]/h2').text\n",
    "    \n",
    "    # append the dictionary to the list\n",
    "    hemisphere_image_urls.append(hemisphere_dict)\n",
    "    \n",
    "    # goback to the previous page\n",
    "    browser.back()\n",
    "#//*[@id=\"product-section\"]/div[2]/div[1]/div/a/h3 \n",
    "#//*[@id=\"product-section\"]/div[2]/div[2]/div/a/h3\n",
    "    "
   ]
  },
  {
   "cell_type": "code",
   "execution_count": 12,
   "metadata": {},
   "outputs": [
    {
     "data": {
      "text/plain": [
       "[{'img_url': 'https://marshemispheres.com/images/full.jpg',\n",
       "  'title': 'Cerberus Hemisphere Enhanced'},\n",
       " {'img_url': 'https://marshemispheres.com/images/schiaparelli_enhanced-full.jpg',\n",
       "  'title': 'Schiaparelli Hemisphere Enhanced'},\n",
       " {'img_url': 'https://marshemispheres.com/images/syrtis_major_enhanced-full.jpg',\n",
       "  'title': 'Syrtis Major Hemisphere Enhanced'},\n",
       " {'img_url': 'https://marshemispheres.com/images/valles_marineris_enhanced-full.jpg',\n",
       "  'title': 'Valles Marineris Hemisphere Enhanced'}]"
      ]
     },
     "execution_count": 12,
     "metadata": {},
     "output_type": "execute_result"
    }
   ],
   "source": [
    "hemisphere_image_urls"
   ]
  },
  {
   "cell_type": "code",
   "execution_count": 10,
   "metadata": {},
   "outputs": [],
   "source": [
    "#browser.quit()"
   ]
  }
 ],
 "metadata": {
  "kernelspec": {
   "display_name": "Python 3 (ipykernel)",
   "language": "python",
   "name": "python3"
  },
  "language_info": {
   "codemirror_mode": {
    "name": "ipython",
    "version": 3
   },
   "file_extension": ".py",
   "mimetype": "text/x-python",
   "name": "python",
   "nbconvert_exporter": "python",
   "pygments_lexer": "ipython3",
   "version": "3.9.7"
  },
  "vscode": {
   "interpreter": {
    "hash": "eed84e3d14cee6c6cc5b4d44494277ebdf36fb0f3225505952c16bc2b05646ec"
   }
  }
 },
 "nbformat": 4,
 "nbformat_minor": 4
}
